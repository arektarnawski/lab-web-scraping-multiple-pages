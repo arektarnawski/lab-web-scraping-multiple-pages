{
 "cells": [
  {
   "cell_type": "code",
   "execution_count": null,
   "id": "8e2b31ec-32b4-4793-8c03-65604f4d812e",
   "metadata": {},
   "outputs": [],
   "source": [
    "#1 Find the number of titles that have changed in the United States Code since its last release point"
   ]
  },
  {
   "cell_type": "code",
   "execution_count": 46,
   "id": "84be5bbd-cb33-49a7-9fb0-7791fc32f3f6",
   "metadata": {},
   "outputs": [],
   "source": [
    "url ='http://uscode.house.gov/download/download.shtml'"
   ]
  },
  {
   "cell_type": "code",
   "execution_count": 3,
   "id": "96bef8f1-ff4e-430d-9984-614606d2b68e",
   "metadata": {},
   "outputs": [],
   "source": [
    "from bs4 import BeautifulSoup\n",
    "import requests\n",
    "import pandas as pd"
   ]
  },
  {
   "cell_type": "code",
   "execution_count": 47,
   "id": "e1e3c4e5-e40d-478f-92b5-8b5ed6de3018",
   "metadata": {},
   "outputs": [
    {
     "data": {
      "text/plain": [
       "200"
      ]
     },
     "execution_count": 47,
     "metadata": {},
     "output_type": "execute_result"
    }
   ],
   "source": [
    "response = requests.get(url)\n",
    "response.status_code "
   ]
  },
  {
   "cell_type": "code",
   "execution_count": 50,
   "id": "f2f059d1-70b7-401d-b44d-7c935c56f973",
   "metadata": {},
   "outputs": [],
   "source": [
    "soup = BeautifulSoup(response.content, \"html.parser\")"
   ]
  },
  {
   "cell_type": "code",
   "execution_count": 56,
   "id": "e507df75-3614-4e24-b16b-f960f502257f",
   "metadata": {},
   "outputs": [
    {
     "data": {
      "text/plain": [
       "['Title 21 - Food and Drugs',\n",
       " 'Title 22 - Foreign Relations and Intercourse',\n",
       " 'Title 47 - Telecommunications',\n",
       " 'Title 50 - War and National Defense']"
      ]
     },
     "execution_count": 56,
     "metadata": {},
     "output_type": "execute_result"
    }
   ],
   "source": [
    "law = []\n",
    "for title in soup.select(\"div.usctitlechanged\"):\n",
    "    law.append(title.get_text().strip())\n",
    "law"
   ]
  },
  {
   "cell_type": "code",
   "execution_count": null,
   "id": "c5dbe01e-23ca-4262-afa2-4b9965324fdd",
   "metadata": {},
   "outputs": [],
   "source": [
    "#2 Create a Python list with the top ten FBI's Most Wanted names"
   ]
  },
  {
   "cell_type": "code",
   "execution_count": 57,
   "id": "aef98317-90e8-4d0c-ba8a-5bba9cbc723e",
   "metadata": {},
   "outputs": [],
   "source": [
    "url = 'https://www.fbi.gov/wanted/topten'"
   ]
  },
  {
   "cell_type": "code",
   "execution_count": 58,
   "id": "eeee4552-7915-4d6f-b3b1-e5d7a7fe006c",
   "metadata": {},
   "outputs": [
    {
     "data": {
      "text/plain": [
       "200"
      ]
     },
     "execution_count": 58,
     "metadata": {},
     "output_type": "execute_result"
    }
   ],
   "source": [
    "response = requests.get(url)\n",
    "response.status_code "
   ]
  },
  {
   "cell_type": "code",
   "execution_count": 59,
   "id": "fa9cb622-44b8-4b05-a3b7-c47ed8dc3eaf",
   "metadata": {},
   "outputs": [],
   "source": [
    "soup = BeautifulSoup(response.content, \"html.parser\")"
   ]
  },
  {
   "cell_type": "code",
   "execution_count": 85,
   "id": "3c45ee99-fd22-4599-b853-ae881546be0f",
   "metadata": {},
   "outputs": [
    {
     "data": {
      "text/plain": [
       "['RAFAEL CARO-QUINTERO',\n",
       " 'YULAN ADONAY ARCHAGA CARIAS',\n",
       " 'EUGENE PALMER',\n",
       " 'BHADRESHKUMAR CHETANBHAI PATEL',\n",
       " 'ALEJANDRO ROSALES CASTILLO',\n",
       " 'ARNOLDO JIMENEZ',\n",
       " 'JASON DEREK BROWN',\n",
       " 'ALEXIS FLORES',\n",
       " 'JOSE RODOLFO VILLARREAL-HERNANDEZ',\n",
       " 'OCTAVIANO JUAREZ-CORRO']"
      ]
     },
     "execution_count": 85,
     "metadata": {},
     "output_type": "execute_result"
    }
   ],
   "source": [
    "niceguys = []\n",
    "for lad in soup.select(\"h3\"):\n",
    "    niceguys.append(lad.get_text().strip())\n",
    "\n",
    "niceguys.pop(10)\n",
    "niceguys.pop(10)\n",
    "niceguys"
   ]
  },
  {
   "cell_type": "code",
   "execution_count": null,
   "id": "3dbfec0f-cb55-44ad-b558-d74b9566924f",
   "metadata": {},
   "outputs": [],
   "source": [
    "#3 Display the 20 latest earthquakes info (date, time, latitude, longitude and region name) by the EMSC as a pandas dataframe"
   ]
  },
  {
   "cell_type": "code",
   "execution_count": 241,
   "id": "14610fba-5aad-497d-a394-19a2bb771845",
   "metadata": {},
   "outputs": [],
   "source": [
    "url = 'https://www.emsc-csem.org/Earthquake/'"
   ]
  },
  {
   "cell_type": "code",
   "execution_count": 242,
   "id": "39504640-7de5-4e93-8558-15a933201e58",
   "metadata": {},
   "outputs": [
    {
     "data": {
      "text/plain": [
       "200"
      ]
     },
     "execution_count": 242,
     "metadata": {},
     "output_type": "execute_result"
    }
   ],
   "source": [
    "response = requests.get(url)\n",
    "response.status_code "
   ]
  },
  {
   "cell_type": "code",
   "execution_count": 243,
   "id": "8367a6a0-76b5-4dcd-8541-953efd57bf85",
   "metadata": {},
   "outputs": [],
   "source": [
    "soup = BeautifulSoup(response.content, \"html.parser\")"
   ]
  },
  {
   "cell_type": "code",
   "execution_count": 247,
   "id": "fd64b992-a237-4322-a2dd-dd2297cf1384",
   "metadata": {},
   "outputs": [
    {
     "data": {
      "text/html": [
       "<div>\n",
       "<style scoped>\n",
       "    .dataframe tbody tr th:only-of-type {\n",
       "        vertical-align: middle;\n",
       "    }\n",
       "\n",
       "    .dataframe tbody tr th {\n",
       "        vertical-align: top;\n",
       "    }\n",
       "\n",
       "    .dataframe thead th {\n",
       "        text-align: right;\n",
       "    }\n",
       "</style>\n",
       "<table border=\"1\" class=\"dataframe\">\n",
       "  <thead>\n",
       "    <tr style=\"text-align: right;\">\n",
       "      <th></th>\n",
       "      <th>date</th>\n",
       "      <th>time</th>\n",
       "      <th>latitude</th>\n",
       "      <th>lat_dir</th>\n",
       "      <th>longitude</th>\n",
       "      <th>lon_dir</th>\n",
       "      <th>depth</th>\n",
       "      <th>magnitude</th>\n",
       "      <th>region</th>\n",
       "    </tr>\n",
       "  </thead>\n",
       "  <tbody>\n",
       "    <tr>\n",
       "      <th>0</th>\n",
       "      <td>2021-11-22</td>\n",
       "      <td>20:42:28.0</td>\n",
       "      <td>28.54</td>\n",
       "      <td>N</td>\n",
       "      <td>17.81</td>\n",
       "      <td>W</td>\n",
       "      <td>30</td>\n",
       "      <td>3.1</td>\n",
       "      <td>CANARY ISLANDS, SPAIN REGION</td>\n",
       "    </tr>\n",
       "    <tr>\n",
       "      <th>1</th>\n",
       "      <td>2021-11-22</td>\n",
       "      <td>20:32:05.5</td>\n",
       "      <td>28.57</td>\n",
       "      <td>N</td>\n",
       "      <td>17.81</td>\n",
       "      <td>W</td>\n",
       "      <td>35</td>\n",
       "      <td>3.3</td>\n",
       "      <td>CANARY ISLANDS, SPAIN REGION</td>\n",
       "    </tr>\n",
       "    <tr>\n",
       "      <th>2</th>\n",
       "      <td>2021-11-22</td>\n",
       "      <td>20:31:11.8</td>\n",
       "      <td>19.16</td>\n",
       "      <td>N</td>\n",
       "      <td>155.48</td>\n",
       "      <td>W</td>\n",
       "      <td>36</td>\n",
       "      <td>2.9</td>\n",
       "      <td>ISLAND OF HAWAII, HAWAII</td>\n",
       "    </tr>\n",
       "    <tr>\n",
       "      <th>3</th>\n",
       "      <td>2021-11-22</td>\n",
       "      <td>20:26:23.0</td>\n",
       "      <td>3.03</td>\n",
       "      <td>S</td>\n",
       "      <td>127.63</td>\n",
       "      <td>E</td>\n",
       "      <td>10</td>\n",
       "      <td>3.6</td>\n",
       "      <td>SERAM, INDONESIA</td>\n",
       "    </tr>\n",
       "    <tr>\n",
       "      <th>4</th>\n",
       "      <td>2021-11-22</td>\n",
       "      <td>20:07:50.5</td>\n",
       "      <td>28.56</td>\n",
       "      <td>N</td>\n",
       "      <td>17.86</td>\n",
       "      <td>W</td>\n",
       "      <td>35</td>\n",
       "      <td>2.9</td>\n",
       "      <td>CANARY ISLANDS, SPAIN REGION</td>\n",
       "    </tr>\n",
       "    <tr>\n",
       "      <th>5</th>\n",
       "      <td>2021-11-22</td>\n",
       "      <td>20:03:20.3</td>\n",
       "      <td>28.56</td>\n",
       "      <td>N</td>\n",
       "      <td>17.80</td>\n",
       "      <td>W</td>\n",
       "      <td>31</td>\n",
       "      <td>2.6</td>\n",
       "      <td>CANARY ISLANDS, SPAIN REGION</td>\n",
       "    </tr>\n",
       "    <tr>\n",
       "      <th>6</th>\n",
       "      <td>2021-11-22</td>\n",
       "      <td>20:00:26.3</td>\n",
       "      <td>28.57</td>\n",
       "      <td>N</td>\n",
       "      <td>17.84</td>\n",
       "      <td>W</td>\n",
       "      <td>35</td>\n",
       "      <td>2.7</td>\n",
       "      <td>CANARY ISLANDS, SPAIN REGION</td>\n",
       "    </tr>\n",
       "    <tr>\n",
       "      <th>7</th>\n",
       "      <td>2021-11-22</td>\n",
       "      <td>19:52:37.5</td>\n",
       "      <td>28.57</td>\n",
       "      <td>N</td>\n",
       "      <td>17.80</td>\n",
       "      <td>W</td>\n",
       "      <td>35</td>\n",
       "      <td>2.6</td>\n",
       "      <td>CANARY ISLANDS, SPAIN REGION</td>\n",
       "    </tr>\n",
       "    <tr>\n",
       "      <th>8</th>\n",
       "      <td>2021-11-22</td>\n",
       "      <td>19:52:37.1</td>\n",
       "      <td>38.98</td>\n",
       "      <td>N</td>\n",
       "      <td>15.76</td>\n",
       "      <td>E</td>\n",
       "      <td>177</td>\n",
       "      <td>2.0</td>\n",
       "      <td>SICILY, ITALY</td>\n",
       "    </tr>\n",
       "    <tr>\n",
       "      <th>9</th>\n",
       "      <td>2021-11-22</td>\n",
       "      <td>19:47:58.0</td>\n",
       "      <td>11.73</td>\n",
       "      <td>N</td>\n",
       "      <td>124.21</td>\n",
       "      <td>E</td>\n",
       "      <td>12</td>\n",
       "      <td>3.2</td>\n",
       "      <td>LEYTE, PHILIPPINES</td>\n",
       "    </tr>\n",
       "    <tr>\n",
       "      <th>10</th>\n",
       "      <td>2021-11-22</td>\n",
       "      <td>19:47:07.0</td>\n",
       "      <td>38.29</td>\n",
       "      <td>N</td>\n",
       "      <td>22.64</td>\n",
       "      <td>E</td>\n",
       "      <td>0</td>\n",
       "      <td>3.4</td>\n",
       "      <td>GREECE</td>\n",
       "    </tr>\n",
       "    <tr>\n",
       "      <th>11</th>\n",
       "      <td>2021-11-22</td>\n",
       "      <td>19:40:52.4</td>\n",
       "      <td>28.57</td>\n",
       "      <td>N</td>\n",
       "      <td>17.81</td>\n",
       "      <td>W</td>\n",
       "      <td>36</td>\n",
       "      <td>2.6</td>\n",
       "      <td>CANARY ISLANDS, SPAIN REGION</td>\n",
       "    </tr>\n",
       "    <tr>\n",
       "      <th>12</th>\n",
       "      <td>2021-11-22</td>\n",
       "      <td>19:39:26.0</td>\n",
       "      <td>19.71</td>\n",
       "      <td>N</td>\n",
       "      <td>70.59</td>\n",
       "      <td>W</td>\n",
       "      <td>23</td>\n",
       "      <td>2.6</td>\n",
       "      <td>DOMINICAN REPUBLIC</td>\n",
       "    </tr>\n",
       "    <tr>\n",
       "      <th>13</th>\n",
       "      <td>2021-11-22</td>\n",
       "      <td>19:38:48.3</td>\n",
       "      <td>28.57</td>\n",
       "      <td>N</td>\n",
       "      <td>17.80</td>\n",
       "      <td>W</td>\n",
       "      <td>35</td>\n",
       "      <td>3.0</td>\n",
       "      <td>CANARY ISLANDS, SPAIN REGION</td>\n",
       "    </tr>\n",
       "    <tr>\n",
       "      <th>14</th>\n",
       "      <td>2021-11-22</td>\n",
       "      <td>19:37:15.0</td>\n",
       "      <td>1.58</td>\n",
       "      <td>S</td>\n",
       "      <td>120.45</td>\n",
       "      <td>E</td>\n",
       "      <td>10</td>\n",
       "      <td>3.4</td>\n",
       "      <td>SULAWESI, INDONESIA</td>\n",
       "    </tr>\n",
       "    <tr>\n",
       "      <th>15</th>\n",
       "      <td>2021-11-22</td>\n",
       "      <td>19:32:40.6</td>\n",
       "      <td>28.50</td>\n",
       "      <td>N</td>\n",
       "      <td>17.83</td>\n",
       "      <td>W</td>\n",
       "      <td>34</td>\n",
       "      <td>2.5</td>\n",
       "      <td>CANARY ISLANDS, SPAIN REGION</td>\n",
       "    </tr>\n",
       "    <tr>\n",
       "      <th>16</th>\n",
       "      <td>2021-11-22</td>\n",
       "      <td>19:20:07.9</td>\n",
       "      <td>28.59</td>\n",
       "      <td>N</td>\n",
       "      <td>17.77</td>\n",
       "      <td>W</td>\n",
       "      <td>45</td>\n",
       "      <td>2.7</td>\n",
       "      <td>CANARY ISLANDS, SPAIN REGION</td>\n",
       "    </tr>\n",
       "    <tr>\n",
       "      <th>17</th>\n",
       "      <td>2021-11-22</td>\n",
       "      <td>19:10:30.0</td>\n",
       "      <td>42.30</td>\n",
       "      <td>N</td>\n",
       "      <td>143.10</td>\n",
       "      <td>E</td>\n",
       "      <td>50</td>\n",
       "      <td>3.6</td>\n",
       "      <td>HOKKAIDO, JAPAN REGION</td>\n",
       "    </tr>\n",
       "    <tr>\n",
       "      <th>18</th>\n",
       "      <td>2021-11-22</td>\n",
       "      <td>19:09:57.3</td>\n",
       "      <td>28.56</td>\n",
       "      <td>N</td>\n",
       "      <td>17.84</td>\n",
       "      <td>W</td>\n",
       "      <td>14</td>\n",
       "      <td>2.5</td>\n",
       "      <td>CANARY ISLANDS, SPAIN REGION</td>\n",
       "    </tr>\n",
       "    <tr>\n",
       "      <th>19</th>\n",
       "      <td>2021-11-22</td>\n",
       "      <td>19:03:41.7</td>\n",
       "      <td>18.14</td>\n",
       "      <td>S</td>\n",
       "      <td>177.99</td>\n",
       "      <td>W</td>\n",
       "      <td>578</td>\n",
       "      <td>4.4</td>\n",
       "      <td>FIJI REGION</td>\n",
       "    </tr>\n",
       "  </tbody>\n",
       "</table>\n",
       "</div>"
      ],
      "text/plain": [
       "          date        time latitude lat_dir longitude lon_dir depth magnitude  \\\n",
       "0   2021-11-22  20:42:28.0    28.54       N     17.81       W    30       3.1   \n",
       "1   2021-11-22  20:32:05.5    28.57       N     17.81       W    35       3.3   \n",
       "2   2021-11-22  20:31:11.8    19.16       N    155.48       W    36       2.9   \n",
       "3   2021-11-22  20:26:23.0     3.03       S    127.63       E    10       3.6   \n",
       "4   2021-11-22  20:07:50.5    28.56       N     17.86       W    35       2.9   \n",
       "5   2021-11-22  20:03:20.3    28.56       N     17.80       W    31       2.6   \n",
       "6   2021-11-22  20:00:26.3    28.57       N     17.84       W    35       2.7   \n",
       "7   2021-11-22  19:52:37.5    28.57       N     17.80       W    35       2.6   \n",
       "8   2021-11-22  19:52:37.1    38.98       N     15.76       E   177       2.0   \n",
       "9   2021-11-22  19:47:58.0    11.73       N    124.21       E    12       3.2   \n",
       "10  2021-11-22  19:47:07.0    38.29       N     22.64       E     0       3.4   \n",
       "11  2021-11-22  19:40:52.4    28.57       N     17.81       W    36       2.6   \n",
       "12  2021-11-22  19:39:26.0    19.71       N     70.59       W    23       2.6   \n",
       "13  2021-11-22  19:38:48.3    28.57       N     17.80       W    35       3.0   \n",
       "14  2021-11-22  19:37:15.0     1.58       S    120.45       E    10       3.4   \n",
       "15  2021-11-22  19:32:40.6    28.50       N     17.83       W    34       2.5   \n",
       "16  2021-11-22  19:20:07.9    28.59       N     17.77       W    45       2.7   \n",
       "17  2021-11-22  19:10:30.0    42.30       N    143.10       E    50       3.6   \n",
       "18  2021-11-22  19:09:57.3    28.56       N     17.84       W    14       2.5   \n",
       "19  2021-11-22  19:03:41.7    18.14       S    177.99       W   578       4.4   \n",
       "\n",
       "                          region  \n",
       "0   CANARY ISLANDS, SPAIN REGION  \n",
       "1   CANARY ISLANDS, SPAIN REGION  \n",
       "2       ISLAND OF HAWAII, HAWAII  \n",
       "3               SERAM, INDONESIA  \n",
       "4   CANARY ISLANDS, SPAIN REGION  \n",
       "5   CANARY ISLANDS, SPAIN REGION  \n",
       "6   CANARY ISLANDS, SPAIN REGION  \n",
       "7   CANARY ISLANDS, SPAIN REGION  \n",
       "8                  SICILY, ITALY  \n",
       "9             LEYTE, PHILIPPINES  \n",
       "10                        GREECE  \n",
       "11  CANARY ISLANDS, SPAIN REGION  \n",
       "12            DOMINICAN REPUBLIC  \n",
       "13  CANARY ISLANDS, SPAIN REGION  \n",
       "14           SULAWESI, INDONESIA  \n",
       "15  CANARY ISLANDS, SPAIN REGION  \n",
       "16  CANARY ISLANDS, SPAIN REGION  \n",
       "17        HOKKAIDO, JAPAN REGION  \n",
       "18  CANARY ISLANDS, SPAIN REGION  \n",
       "19                   FIJI REGION  "
      ]
     },
     "execution_count": 247,
     "metadata": {},
     "output_type": "execute_result"
    }
   ],
   "source": [
    "dates = []\n",
    "times = []\n",
    "latdegs = []\n",
    "orientlats = []\n",
    "londegs = []\n",
    "orientlons = []\n",
    "depths = []\n",
    "mags = []\n",
    "regs = []\n",
    "\n",
    "for i in range(20):\n",
    "    dates.append(soup.select(\"td.tabev6 > b > a\")[i].get_text().replace('\\xa0', ' ').split(\" \")[0])\n",
    "    times.append(soup.select(\"td.tabev6 > b > a\")[i].get_text().replace('\\xa0', ' ').split(\" \")[3])\n",
    "    depths.append(soup.select(\"td.tabev3\")[i].get_text())\n",
    "    regs.append(soup.select('#reg'+str(i))[0].get_text().replace('\\xa0', ''))\n",
    "for i in range(0,40,2):   \n",
    "    latdegs.append(soup.select(\"td.tabev1\")[i].get_text().replace('\\xa0', ''))\n",
    "for i in range(1,40,2):\n",
    "    londegs.append(soup.select(\"td.tabev1\")[i].get_text().replace('\\xa0', ''))\n",
    "for i in range(0,60,3):\n",
    "    orientlats.append(soup.select(\"td.tabev2\")[i].get_text().replace('\\xa0', ''))\n",
    "for i in range(1,60,3):\n",
    "    orientlons.append(soup.select(\"td.tabev2\")[i].get_text().replace('\\xa0', ''))\n",
    "for i in range(2,60,3):\n",
    "    mags.append(soup.select(\"td.tabev2\")[i].get_text())\n",
    "    \n",
    "quake = pd.DataFrame({'date':dates,\n",
    "                 'time':times,\n",
    "                 'latitude':latdegs,\n",
    "                  'lat_dir':orientlats,\n",
    "                 'longitude':londegs,\n",
    "                  'lon_dir':orientlons,\n",
    "                 'depth':depths,\n",
    "                 'magnitude':mags,\n",
    "                 'region':regs})\n",
    "quake.head(20)"
   ]
  }
 ],
 "metadata": {
  "kernelspec": {
   "display_name": "Python 3 (ipykernel)",
   "language": "python",
   "name": "python3"
  },
  "language_info": {
   "codemirror_mode": {
    "name": "ipython",
    "version": 3
   },
   "file_extension": ".py",
   "mimetype": "text/x-python",
   "name": "python",
   "nbconvert_exporter": "python",
   "pygments_lexer": "ipython3",
   "version": "3.8.8"
  }
 },
 "nbformat": 4,
 "nbformat_minor": 5
}
